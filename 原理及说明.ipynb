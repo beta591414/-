{
 "cells": [
  {
   "cell_type": "markdown",
   "metadata": {},
   "source": [
    "\n",
    "## 傅里叶级数绘图原理\n",
    "- 参考网站[jezzamon.con/fourier/zh-cn.html](https://www.jezzamon.com/fourier/zh-cn.html)\n",
    "\n",
    "## 不同点\n",
    "- 我们使用的是贝塞尔曲线采集样本点，并非插值，其实大差不差。\n",
    "\n",
    "## 各个模块用途\n",
    "- svg.py------用于解析svg文件，提取其中的path（d=之后的内容）\n",
    "- fourier.py------用于采集贝塞尔样本点并绘图\n",
    "     - 文件的输出名称请在这里设置 \n",
    "- fourier文件夹--draw.py----用于绘制动态图像(GIF)\n",
    "- fourier文件夹--clean_data.py----处理数据，变为复数对\n",
    "- rawvertexes.txt-----经过svg.py文件解析后的内容\n",
    "  \n",
    "## 预装库\n",
    "- matplotlib\n",
    "- math\n",
    "- cmath\n",
    "- numpy"
   ]
  }
 ],
 "metadata": {
  "language_info": {
   "name": "python"
  },
  "orig_nbformat": 4
 },
 "nbformat": 4,
 "nbformat_minor": 2
}
